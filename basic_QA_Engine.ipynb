{
 "cells": [
  {
   "cell_type": "code",
   "execution_count": 1,
   "metadata": {},
   "outputs": [
    {
     "name": "stdout",
     "output_type": "stream",
     "text": [
      "What's your name? k\n",
      "Where are you? ks\n",
      "Hi k! How is the weather in ks?\n"
     ]
    }
   ],
   "source": [
    "from pyknow import *\n",
    "\n",
    "class Greetings(KnowledgeEngine):\n",
    "    @DefFacts()\n",
    "    def _initial_action(self):\n",
    "        yield Fact(action=\"greet\")\n",
    "\n",
    "    @Rule(Fact(action='greet'),\n",
    "          NOT(Fact(name=W())))\n",
    "    def ask_name(self):\n",
    "        self.declare(Fact(name=input(\"What's your name? \")))\n",
    "\n",
    "    @Rule(Fact(action='greet'),\n",
    "          NOT(Fact(location=W())))\n",
    "    def ask_location(self):\n",
    "        self.declare(Fact(location=input(\"Where are you? \")))\n",
    "\n",
    "    @Rule(Fact(action='greet'),\n",
    "          Fact(name=MATCH.name),\n",
    "          Fact(location=MATCH.location))\n",
    "    def greet(self, name, location):\n",
    "        print(\"Hi %s! How is the weather in %s?\" % (name, location))\n",
    "\n",
    "engine = Greetings()\n",
    "engine.reset()  # Prepare the engine for the execution.\n",
    "engine.run()  # Run it!"
   ]
  }
 ],
 "metadata": {
  "kernelspec": {
   "display_name": "Python 3",
   "language": "python",
   "name": "python3"
  },
  "language_info": {
   "codemirror_mode": {
    "name": "ipython",
    "version": 3
   },
   "file_extension": ".py",
   "mimetype": "text/x-python",
   "name": "python",
   "nbconvert_exporter": "python",
   "pygments_lexer": "ipython3",
   "version": "3.6.4"
  }
 },
 "nbformat": 4,
 "nbformat_minor": 2
}
